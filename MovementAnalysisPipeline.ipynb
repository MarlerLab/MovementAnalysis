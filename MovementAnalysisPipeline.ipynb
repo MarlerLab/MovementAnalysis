{
 "cells": [
  {
   "cell_type": "markdown",
   "metadata": {},
   "source": [
    "Environment settings: https://www.mathworks.com/help/matlab/matlab_external/install-the-matlab-engine-for-python.html\n",
    "\n",
    "Remember to put this script, MiceMovementAnalysis.m and all .h5 files in the same directory\n",
    "The output will be in the same directory, too\n",
    "Open a terminal of this directory AS ADMINISTRATOR\n",
    "Modify this script as needed, including the number of files\n",
    "Run this script and you're done!"
   ]
  },
  {
   "cell_type": "code",
   "execution_count": null,
   "metadata": {},
   "outputs": [],
   "source": [
    "import matlab.engine\n",
    "import os\n",
    "import pandas as pd"
   ]
  },
  {
   "cell_type": "markdown",
   "metadata": {},
   "source": [
    "If you need to modify paths, do it in the next section only"
   ]
  },
  {
   "cell_type": "code",
   "execution_count": null,
   "metadata": {},
   "outputs": [],
   "source": [
    "path = 'MovementObservation.csv'\n",
    "\n",
    "def h5_to_csv():\n",
    "    current_file = os.getcwd() + '\\\\' + '1week-Pair1DLC_dlcrnetms5_californiamouseMay31shuffle1_70000_el.h5'\n",
    "    df = pd.read_hdf(current_file)\n",
    "    df.dropna().to_csv(path)"
   ]
  },
  {
   "cell_type": "code",
   "execution_count": null,
   "metadata": {},
   "outputs": [],
   "source": [
    "def matlab_movement_analysis():\n",
    "    eng = matlab.engine.start_matlab()\n",
    "    eng.MiceMovementAnalysis(nargout=0)\n",
    "    eng.quit()"
   ]
  },
  {
   "cell_type": "code",
   "execution_count": null,
   "metadata": {},
   "outputs": [],
   "source": [
    "if __name__ == '__main__':\n",
    "    h5_to_csv()\n",
    "    matlab_movement_analysis()"
   ]
  }
 ],
 "metadata": {
  "kernelspec": {
   "display_name": "Python 3.9.9 64-bit",
   "language": "python",
   "name": "python3"
  },
  "language_info": {
   "name": "python",
   "version": "3.9.9"
  },
  "orig_nbformat": 4,
  "vscode": {
   "interpreter": {
    "hash": "3de3ede582badc952b9277cc225f8736d81ae0c1775a0dbc14aacc90ae5f5f47"
   }
  }
 },
 "nbformat": 4,
 "nbformat_minor": 2
}
